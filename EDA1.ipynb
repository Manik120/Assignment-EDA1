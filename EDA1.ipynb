{
  "nbformat": 4,
  "nbformat_minor": 0,
  "metadata": {
    "colab": {
      "provenance": []
    },
    "kernelspec": {
      "name": "python3",
      "display_name": "Python 3"
    },
    "language_info": {
      "name": "python"
    }
  },
  "cells": [
    {
      "cell_type": "code",
      "execution_count": 1,
      "metadata": {
        "colab": {
          "base_uri": "https://localhost:8080/"
        },
        "id": "AGnXNugiysSc",
        "outputId": "703faab3-843c-46b9-9e5f-fa2f227ce290"
      },
      "outputs": [
        {
          "output_type": "stream",
          "name": "stdout",
          "text": [
            "Requirement already satisfied: pandas in /usr/local/lib/python3.10/dist-packages (2.0.3)\n",
            "Requirement already satisfied: python-dateutil>=2.8.2 in /usr/local/lib/python3.10/dist-packages (from pandas) (2.8.2)\n",
            "Requirement already satisfied: pytz>=2020.1 in /usr/local/lib/python3.10/dist-packages (from pandas) (2023.4)\n",
            "Requirement already satisfied: tzdata>=2022.1 in /usr/local/lib/python3.10/dist-packages (from pandas) (2024.1)\n",
            "Requirement already satisfied: numpy>=1.21.0 in /usr/local/lib/python3.10/dist-packages (from pandas) (1.25.2)\n",
            "Requirement already satisfied: six>=1.5 in /usr/local/lib/python3.10/dist-packages (from python-dateutil>=2.8.2->pandas) (1.16.0)\n"
          ]
        }
      ],
      "source": [
        "pip install pandas\n"
      ]
    },
    {
      "cell_type": "code",
      "source": [
        "pip install numpy"
      ],
      "metadata": {
        "colab": {
          "base_uri": "https://localhost:8080/"
        },
        "id": "uUT3-stDz36K",
        "outputId": "f2e10130-fc5b-40ca-97dc-29347d65d69b"
      },
      "execution_count": 2,
      "outputs": [
        {
          "output_type": "stream",
          "name": "stdout",
          "text": [
            "Requirement already satisfied: numpy in /usr/local/lib/python3.10/dist-packages (1.25.2)\n"
          ]
        }
      ]
    },
    {
      "cell_type": "code",
      "source": [
        "pip install -U scikit-learn"
      ],
      "metadata": {
        "colab": {
          "base_uri": "https://localhost:8080/"
        },
        "id": "EJv-PIVp1Htw",
        "outputId": "1fd5871c-d342-4995-c08e-a311b25a9318"
      },
      "execution_count": 3,
      "outputs": [
        {
          "output_type": "stream",
          "name": "stdout",
          "text": [
            "Requirement already satisfied: scikit-learn in /usr/local/lib/python3.10/dist-packages (1.2.2)\n",
            "Collecting scikit-learn\n",
            "  Downloading scikit_learn-1.4.2-cp310-cp310-manylinux_2_17_x86_64.manylinux2014_x86_64.whl (12.1 MB)\n",
            "\u001b[2K     \u001b[90m━━━━━━━━━━━━━━━━━━━━━━━━━━━━━━━━━━━━━━━━\u001b[0m \u001b[32m12.1/12.1 MB\u001b[0m \u001b[31m23.1 MB/s\u001b[0m eta \u001b[36m0:00:00\u001b[0m\n",
            "\u001b[?25hRequirement already satisfied: numpy>=1.19.5 in /usr/local/lib/python3.10/dist-packages (from scikit-learn) (1.25.2)\n",
            "Requirement already satisfied: scipy>=1.6.0 in /usr/local/lib/python3.10/dist-packages (from scikit-learn) (1.11.4)\n",
            "Requirement already satisfied: joblib>=1.2.0 in /usr/local/lib/python3.10/dist-packages (from scikit-learn) (1.4.0)\n",
            "Requirement already satisfied: threadpoolctl>=2.0.0 in /usr/local/lib/python3.10/dist-packages (from scikit-learn) (3.4.0)\n",
            "Installing collected packages: scikit-learn\n",
            "  Attempting uninstall: scikit-learn\n",
            "    Found existing installation: scikit-learn 1.2.2\n",
            "    Uninstalling scikit-learn-1.2.2:\n",
            "      Successfully uninstalled scikit-learn-1.2.2\n",
            "Successfully installed scikit-learn-1.4.2\n"
          ]
        }
      ]
    },
    {
      "cell_type": "code",
      "source": [
        "import numpy as np\n",
        "import pandas as pd\n",
        "import matplotlib.pyplot as plt\n",
        "import seaborn as sns\n",
        "from google.colab import files"
      ],
      "metadata": {
        "id": "RnGH0mgSz7q2"
      },
      "execution_count": 4,
      "outputs": []
    },
    {
      "cell_type": "code",
      "source": [
        "from sklearn.impute import SimpleImputer"
      ],
      "metadata": {
        "id": "ordw_vMCPKM3"
      },
      "execution_count": 5,
      "outputs": []
    },
    {
      "cell_type": "markdown",
      "source": [
        "# 1.\tData Cleaning and Preparation:"
      ],
      "metadata": {
        "id": "lCAV_MSn3K2v"
      }
    },
    {
      "cell_type": "code",
      "source": [
        "\n",
        "uploaded = files.upload()"
      ],
      "metadata": {
        "colab": {
          "base_uri": "https://localhost:8080/",
          "height": 73
        },
        "id": "POckdgnz0fMo",
        "outputId": "7eb38013-5301-4c81-ce2d-f5da11549dff"
      },
      "execution_count": 6,
      "outputs": [
        {
          "output_type": "display_data",
          "data": {
            "text/plain": [
              "<IPython.core.display.HTML object>"
            ],
            "text/html": [
              "\n",
              "     <input type=\"file\" id=\"files-06d26529-fcdb-4b45-96e8-56c6196f4876\" name=\"files[]\" multiple disabled\n",
              "        style=\"border:none\" />\n",
              "     <output id=\"result-06d26529-fcdb-4b45-96e8-56c6196f4876\">\n",
              "      Upload widget is only available when the cell has been executed in the\n",
              "      current browser session. Please rerun this cell to enable.\n",
              "      </output>\n",
              "      <script>// Copyright 2017 Google LLC\n",
              "//\n",
              "// Licensed under the Apache License, Version 2.0 (the \"License\");\n",
              "// you may not use this file except in compliance with the License.\n",
              "// You may obtain a copy of the License at\n",
              "//\n",
              "//      http://www.apache.org/licenses/LICENSE-2.0\n",
              "//\n",
              "// Unless required by applicable law or agreed to in writing, software\n",
              "// distributed under the License is distributed on an \"AS IS\" BASIS,\n",
              "// WITHOUT WARRANTIES OR CONDITIONS OF ANY KIND, either express or implied.\n",
              "// See the License for the specific language governing permissions and\n",
              "// limitations under the License.\n",
              "\n",
              "/**\n",
              " * @fileoverview Helpers for google.colab Python module.\n",
              " */\n",
              "(function(scope) {\n",
              "function span(text, styleAttributes = {}) {\n",
              "  const element = document.createElement('span');\n",
              "  element.textContent = text;\n",
              "  for (const key of Object.keys(styleAttributes)) {\n",
              "    element.style[key] = styleAttributes[key];\n",
              "  }\n",
              "  return element;\n",
              "}\n",
              "\n",
              "// Max number of bytes which will be uploaded at a time.\n",
              "const MAX_PAYLOAD_SIZE = 100 * 1024;\n",
              "\n",
              "function _uploadFiles(inputId, outputId) {\n",
              "  const steps = uploadFilesStep(inputId, outputId);\n",
              "  const outputElement = document.getElementById(outputId);\n",
              "  // Cache steps on the outputElement to make it available for the next call\n",
              "  // to uploadFilesContinue from Python.\n",
              "  outputElement.steps = steps;\n",
              "\n",
              "  return _uploadFilesContinue(outputId);\n",
              "}\n",
              "\n",
              "// This is roughly an async generator (not supported in the browser yet),\n",
              "// where there are multiple asynchronous steps and the Python side is going\n",
              "// to poll for completion of each step.\n",
              "// This uses a Promise to block the python side on completion of each step,\n",
              "// then passes the result of the previous step as the input to the next step.\n",
              "function _uploadFilesContinue(outputId) {\n",
              "  const outputElement = document.getElementById(outputId);\n",
              "  const steps = outputElement.steps;\n",
              "\n",
              "  const next = steps.next(outputElement.lastPromiseValue);\n",
              "  return Promise.resolve(next.value.promise).then((value) => {\n",
              "    // Cache the last promise value to make it available to the next\n",
              "    // step of the generator.\n",
              "    outputElement.lastPromiseValue = value;\n",
              "    return next.value.response;\n",
              "  });\n",
              "}\n",
              "\n",
              "/**\n",
              " * Generator function which is called between each async step of the upload\n",
              " * process.\n",
              " * @param {string} inputId Element ID of the input file picker element.\n",
              " * @param {string} outputId Element ID of the output display.\n",
              " * @return {!Iterable<!Object>} Iterable of next steps.\n",
              " */\n",
              "function* uploadFilesStep(inputId, outputId) {\n",
              "  const inputElement = document.getElementById(inputId);\n",
              "  inputElement.disabled = false;\n",
              "\n",
              "  const outputElement = document.getElementById(outputId);\n",
              "  outputElement.innerHTML = '';\n",
              "\n",
              "  const pickedPromise = new Promise((resolve) => {\n",
              "    inputElement.addEventListener('change', (e) => {\n",
              "      resolve(e.target.files);\n",
              "    });\n",
              "  });\n",
              "\n",
              "  const cancel = document.createElement('button');\n",
              "  inputElement.parentElement.appendChild(cancel);\n",
              "  cancel.textContent = 'Cancel upload';\n",
              "  const cancelPromise = new Promise((resolve) => {\n",
              "    cancel.onclick = () => {\n",
              "      resolve(null);\n",
              "    };\n",
              "  });\n",
              "\n",
              "  // Wait for the user to pick the files.\n",
              "  const files = yield {\n",
              "    promise: Promise.race([pickedPromise, cancelPromise]),\n",
              "    response: {\n",
              "      action: 'starting',\n",
              "    }\n",
              "  };\n",
              "\n",
              "  cancel.remove();\n",
              "\n",
              "  // Disable the input element since further picks are not allowed.\n",
              "  inputElement.disabled = true;\n",
              "\n",
              "  if (!files) {\n",
              "    return {\n",
              "      response: {\n",
              "        action: 'complete',\n",
              "      }\n",
              "    };\n",
              "  }\n",
              "\n",
              "  for (const file of files) {\n",
              "    const li = document.createElement('li');\n",
              "    li.append(span(file.name, {fontWeight: 'bold'}));\n",
              "    li.append(span(\n",
              "        `(${file.type || 'n/a'}) - ${file.size} bytes, ` +\n",
              "        `last modified: ${\n",
              "            file.lastModifiedDate ? file.lastModifiedDate.toLocaleDateString() :\n",
              "                                    'n/a'} - `));\n",
              "    const percent = span('0% done');\n",
              "    li.appendChild(percent);\n",
              "\n",
              "    outputElement.appendChild(li);\n",
              "\n",
              "    const fileDataPromise = new Promise((resolve) => {\n",
              "      const reader = new FileReader();\n",
              "      reader.onload = (e) => {\n",
              "        resolve(e.target.result);\n",
              "      };\n",
              "      reader.readAsArrayBuffer(file);\n",
              "    });\n",
              "    // Wait for the data to be ready.\n",
              "    let fileData = yield {\n",
              "      promise: fileDataPromise,\n",
              "      response: {\n",
              "        action: 'continue',\n",
              "      }\n",
              "    };\n",
              "\n",
              "    // Use a chunked sending to avoid message size limits. See b/62115660.\n",
              "    let position = 0;\n",
              "    do {\n",
              "      const length = Math.min(fileData.byteLength - position, MAX_PAYLOAD_SIZE);\n",
              "      const chunk = new Uint8Array(fileData, position, length);\n",
              "      position += length;\n",
              "\n",
              "      const base64 = btoa(String.fromCharCode.apply(null, chunk));\n",
              "      yield {\n",
              "        response: {\n",
              "          action: 'append',\n",
              "          file: file.name,\n",
              "          data: base64,\n",
              "        },\n",
              "      };\n",
              "\n",
              "      let percentDone = fileData.byteLength === 0 ?\n",
              "          100 :\n",
              "          Math.round((position / fileData.byteLength) * 100);\n",
              "      percent.textContent = `${percentDone}% done`;\n",
              "\n",
              "    } while (position < fileData.byteLength);\n",
              "  }\n",
              "\n",
              "  // All done.\n",
              "  yield {\n",
              "    response: {\n",
              "      action: 'complete',\n",
              "    }\n",
              "  };\n",
              "}\n",
              "\n",
              "scope.google = scope.google || {};\n",
              "scope.google.colab = scope.google.colab || {};\n",
              "scope.google.colab._files = {\n",
              "  _uploadFiles,\n",
              "  _uploadFilesContinue,\n",
              "};\n",
              "})(self);\n",
              "</script> "
            ]
          },
          "metadata": {}
        },
        {
          "output_type": "stream",
          "name": "stdout",
          "text": [
            "Saving Cardiotocographic.csv to Cardiotocographic.csv\n"
          ]
        }
      ]
    },
    {
      "cell_type": "code",
      "source": [
        "Cardio = pd.read_csv(\"Cardiotocographic.csv\")\n",
        "print(Cardio.head())"
      ],
      "metadata": {
        "colab": {
          "base_uri": "https://localhost:8080/"
        },
        "id": "Wd0467yH2Ler",
        "outputId": "2afa82d7-de70-461f-a659-21ff809a958a"
      },
      "execution_count": 7,
      "outputs": [
        {
          "output_type": "stream",
          "name": "stdout",
          "text": [
            "           LB        AC   FM        UC        DL   DS   DP  ASTV  MSTV  ALTV  \\\n",
            "0  120.000000  0.000000  0.0  0.000000  0.000000  0.0  0.0  73.0   0.5  43.0   \n",
            "1  132.000000  0.006380  0.0  0.006380  0.003190  0.0  0.0  17.0   2.1   0.0   \n",
            "2  133.000000  0.003322  0.0  0.008306  0.003322  0.0  0.0  16.0   2.1   0.0   \n",
            "3  134.000000  0.002561  0.0  0.007742  0.002561  0.0  0.0  16.0   2.4   0.0   \n",
            "4  131.948232  0.006515  0.0  0.008143  0.000000  0.0  0.0  16.0   2.4   0.0   \n",
            "\n",
            "   MLTV  Width  Tendency  NSP  \n",
            "0   2.4   64.0  0.999926  2.0  \n",
            "1  10.4  130.0  0.000000  1.0  \n",
            "2  13.4  130.0  0.000000  1.0  \n",
            "3  23.0  117.0  1.000000  1.0  \n",
            "4  19.9  117.0  1.000000  1.0  \n"
          ]
        }
      ]
    },
    {
      "cell_type": "code",
      "source": [
        "print(Cardio.describe())"
      ],
      "metadata": {
        "colab": {
          "base_uri": "https://localhost:8080/"
        },
        "id": "Vl76nkTO3AQQ",
        "outputId": "5368d4b9-2037-4f43-b5b2-e6d2eff2862b"
      },
      "execution_count": 8,
      "outputs": [
        {
          "output_type": "stream",
          "name": "stdout",
          "text": [
            "                LB           AC           FM           UC           DL  \\\n",
            "count  2105.000000  2106.000000  2126.000000  2126.000000  2126.000000   \n",
            "mean    133.343598     0.003219     0.009894     0.004391     0.001895   \n",
            "std      11.270154     0.004391     0.067540     0.003340     0.003343   \n",
            "min      51.842487    -0.019284    -0.480634    -0.014925    -0.015393   \n",
            "25%     126.000000     0.000000     0.000000     0.001851     0.000000   \n",
            "50%     133.000000     0.001634     0.000000     0.004484     0.000000   \n",
            "75%     140.000000     0.005650     0.002567     0.006536     0.003289   \n",
            "max     214.000000     0.038567     0.961268     0.030002     0.030769   \n",
            "\n",
            "                DS           DP         ASTV         MSTV         ALTV  \\\n",
            "count  2105.000000  2105.000000  2126.000000  2126.000000  2126.000000   \n",
            "mean      0.000003     0.000175    46.995984     1.364378    10.285964   \n",
            "std       0.000142     0.000840    18.813973     1.173632    21.205041   \n",
            "min      -0.001353    -0.005348   -63.000000    -6.600000   -91.000000   \n",
            "25%       0.000000     0.000000    32.000000     0.700000     0.000000   \n",
            "50%       0.000000     0.000000    49.000000     1.200000     0.000000   \n",
            "75%       0.000000     0.000000    61.000000     1.700000    11.000000   \n",
            "max       0.002706     0.010695   162.000000    13.800000   182.000000   \n",
            "\n",
            "              MLTV        Width     Tendency          NSP  \n",
            "count  2105.000000  2105.000000  2105.000000  2105.000000  \n",
            "mean      8.284887    70.429260     0.316371     1.304507  \n",
            "std       7.772858    42.931822     0.645622     0.644619  \n",
            "min     -50.700000  -174.000000    -3.000000    -1.025988  \n",
            "25%       4.600000    37.000000     0.000000     1.000000  \n",
            "50%       7.400000    67.000000     0.000000     1.000000  \n",
            "75%      10.900000   100.000000     1.000000     1.000000  \n",
            "max     101.400000   357.000000     3.000000     5.000000  \n"
          ]
        }
      ]
    },
    {
      "cell_type": "code",
      "source": [
        "print(Cardio.shape)"
      ],
      "metadata": {
        "colab": {
          "base_uri": "https://localhost:8080/"
        },
        "id": "2czb_z7kDZPm",
        "outputId": "7b76d74b-dab1-4cd5-8d7e-fb592d4272fe"
      },
      "execution_count": 9,
      "outputs": [
        {
          "output_type": "stream",
          "name": "stdout",
          "text": [
            "(2126, 14)\n"
          ]
        }
      ]
    },
    {
      "cell_type": "code",
      "source": [
        "print(Cardio.dtypes)"
      ],
      "metadata": {
        "colab": {
          "base_uri": "https://localhost:8080/"
        },
        "id": "gMgFpuTRED3o",
        "outputId": "cef57736-7314-4ff6-ff3a-b978243bce1a"
      },
      "execution_count": 10,
      "outputs": [
        {
          "output_type": "stream",
          "name": "stdout",
          "text": [
            "LB          float64\n",
            "AC          float64\n",
            "FM          float64\n",
            "UC          float64\n",
            "DL          float64\n",
            "DS          float64\n",
            "DP          float64\n",
            "ASTV        float64\n",
            "MSTV        float64\n",
            "ALTV        float64\n",
            "MLTV        float64\n",
            "Width       float64\n",
            "Tendency    float64\n",
            "NSP         float64\n",
            "dtype: object\n"
          ]
        }
      ]
    },
    {
      "cell_type": "code",
      "source": [
        "Cardio_df = Cardio.replace({0.0: np.nan})\n",
        "print(Cardio_df)"
      ],
      "metadata": {
        "colab": {
          "base_uri": "https://localhost:8080/"
        },
        "id": "ECsHBwOBRSwW",
        "outputId": "91a31140-aff6-4dba-cabe-3eaa6c783e43"
      },
      "execution_count": 11,
      "outputs": [
        {
          "output_type": "stream",
          "name": "stdout",
          "text": [
            "              LB        AC        FM        UC        DL  DS  DP  ASTV  MSTV  \\\n",
            "0     120.000000       NaN       NaN       NaN       NaN NaN NaN  73.0   0.5   \n",
            "1     132.000000  0.006380       NaN  0.006380  0.003190 NaN NaN  17.0   2.1   \n",
            "2     133.000000  0.003322       NaN  0.008306  0.003322 NaN NaN  16.0   2.1   \n",
            "3     134.000000  0.002561       NaN  0.007742  0.002561 NaN NaN  16.0   2.4   \n",
            "4     131.948232  0.006515       NaN  0.008143       NaN NaN NaN  16.0   2.4   \n",
            "...          ...       ...       ...       ...       ...  ..  ..   ...   ...   \n",
            "2121  140.000000       NaN  0.961268  0.007426       NaN NaN NaN  79.0   0.2   \n",
            "2122  140.000000  0.000775       NaN  0.006979       NaN NaN NaN  78.0   0.4   \n",
            "2123  140.000000  0.000980       NaN  0.006863       NaN NaN NaN  79.0   0.4   \n",
            "2124  140.000000  0.000679       NaN  0.006110       NaN NaN NaN  78.0   0.4   \n",
            "2125  142.000000  0.001616 -0.000188  0.008078       NaN NaN NaN  74.0   0.4   \n",
            "\n",
            "           ALTV  MLTV  Width  Tendency       NSP  \n",
            "0     43.000000   2.4   64.0  0.999926  2.000000  \n",
            "1           NaN  10.4  130.0       NaN  1.000000  \n",
            "2           NaN  13.4  130.0       NaN  1.000000  \n",
            "3           NaN  23.0  117.0  1.000000  1.000000  \n",
            "4           NaN  19.9  117.0  1.000000  1.000000  \n",
            "...         ...   ...    ...       ...       ...  \n",
            "2121  25.000000   7.2   40.0       NaN  2.000000  \n",
            "2122  22.000000   7.1   66.0  1.000000  2.000000  \n",
            "2123  20.000000   6.1   67.0  1.000000  1.990464  \n",
            "2124  27.000000   7.0   66.0  1.000000  2.000000  \n",
            "2125  35.857183   5.0   42.0       NaN  1.000000  \n",
            "\n",
            "[2126 rows x 14 columns]\n"
          ]
        }
      ]
    },
    {
      "cell_type": "code",
      "source": [
        "Cardio.isnull().sum()"
      ],
      "metadata": {
        "colab": {
          "base_uri": "https://localhost:8080/"
        },
        "id": "iB_SvxkeZK-h",
        "outputId": "737ff217-6ae7-4cca-8dc5-be6912083b6d"
      },
      "execution_count": 12,
      "outputs": [
        {
          "output_type": "execute_result",
          "data": {
            "text/plain": [
              "LB          21\n",
              "AC          20\n",
              "FM           0\n",
              "UC           0\n",
              "DL           0\n",
              "DS          21\n",
              "DP          21\n",
              "ASTV         0\n",
              "MSTV         0\n",
              "ALTV         0\n",
              "MLTV        21\n",
              "Width       21\n",
              "Tendency    21\n",
              "NSP         21\n",
              "dtype: int64"
            ]
          },
          "metadata": {},
          "execution_count": 12
        }
      ]
    },
    {
      "cell_type": "code",
      "source": [
        "df_cardio = Cardio.dropna()\n",
        "\n",
        "print(df_cardio)"
      ],
      "metadata": {
        "colab": {
          "base_uri": "https://localhost:8080/"
        },
        "id": "WoLc9eT88ZFM",
        "outputId": "981b8185-7a09-41ad-db34-7d7fffd2cfe1"
      },
      "execution_count": 18,
      "outputs": [
        {
          "output_type": "stream",
          "name": "stdout",
          "text": [
            "              LB        AC        FM        UC        DL   DS   DP  ASTV  \\\n",
            "0     120.000000  0.000000  0.000000  0.000000  0.000000  0.0  0.0  73.0   \n",
            "1     132.000000  0.006380  0.000000  0.006380  0.003190  0.0  0.0  17.0   \n",
            "2     133.000000  0.003322  0.000000  0.008306  0.003322  0.0  0.0  16.0   \n",
            "3     134.000000  0.002561  0.000000  0.007742  0.002561  0.0  0.0  16.0   \n",
            "4     131.948232  0.006515  0.000000  0.008143  0.000000  0.0  0.0  16.0   \n",
            "...          ...       ...       ...       ...       ...  ...  ...   ...   \n",
            "2121  140.000000  0.000000  0.961268  0.007426  0.000000  0.0  0.0  79.0   \n",
            "2122  140.000000  0.000775  0.000000  0.006979  0.000000  0.0  0.0  78.0   \n",
            "2123  140.000000  0.000980  0.000000  0.006863  0.000000  0.0  0.0  79.0   \n",
            "2124  140.000000  0.000679  0.000000  0.006110  0.000000  0.0  0.0  78.0   \n",
            "2125  142.000000  0.001616 -0.000188  0.008078  0.000000  0.0  0.0  74.0   \n",
            "\n",
            "      MSTV       ALTV  MLTV  Width  Tendency       NSP  \n",
            "0      0.5  43.000000   2.4   64.0  0.999926  2.000000  \n",
            "1      2.1   0.000000  10.4  130.0  0.000000  1.000000  \n",
            "2      2.1   0.000000  13.4  130.0  0.000000  1.000000  \n",
            "3      2.4   0.000000  23.0  117.0  1.000000  1.000000  \n",
            "4      2.4   0.000000  19.9  117.0  1.000000  1.000000  \n",
            "...    ...        ...   ...    ...       ...       ...  \n",
            "2121   0.2  25.000000   7.2   40.0  0.000000  2.000000  \n",
            "2122   0.4  22.000000   7.1   66.0  1.000000  2.000000  \n",
            "2123   0.4  20.000000   6.1   67.0  1.000000  1.990464  \n",
            "2124   0.4  27.000000   7.0   66.0  1.000000  2.000000  \n",
            "2125   0.4  35.857183   5.0   42.0  0.000000  1.000000  \n",
            "\n",
            "[2105 rows x 14 columns]\n"
          ]
        }
      ]
    },
    {
      "cell_type": "code",
      "source": [
        "df_cardio.isnull().sum()"
      ],
      "metadata": {
        "colab": {
          "base_uri": "https://localhost:8080/"
        },
        "id": "lerF92S58tEL",
        "outputId": "408942f7-cb37-42be-a288-a70b32b3da79"
      },
      "execution_count": 20,
      "outputs": [
        {
          "output_type": "execute_result",
          "data": {
            "text/plain": [
              "LB          0\n",
              "AC          0\n",
              "FM          0\n",
              "UC          0\n",
              "DL          0\n",
              "DS          0\n",
              "DP          0\n",
              "ASTV        0\n",
              "MSTV        0\n",
              "ALTV        0\n",
              "MLTV        0\n",
              "Width       0\n",
              "Tendency    0\n",
              "NSP         0\n",
              "dtype: int64"
            ]
          },
          "metadata": {},
          "execution_count": 20
        }
      ]
    },
    {
      "cell_type": "markdown",
      "source": [
        "# 2.\tStatistical Summary:"
      ],
      "metadata": {
        "id": "BjKDcX9EVETe"
      }
    },
    {
      "cell_type": "code",
      "source": [
        "print(df_cardio.describe())\n"
      ],
      "metadata": {
        "colab": {
          "base_uri": "https://localhost:8080/"
        },
        "id": "Zjsv2YSaVSQ0",
        "outputId": "4b9dcde5-5f56-4b4e-f1a4-0f9b324e9bed"
      },
      "execution_count": 21,
      "outputs": [
        {
          "output_type": "stream",
          "name": "stdout",
          "text": [
            "                LB           AC           FM           UC           DL  \\\n",
            "count  2105.000000  2105.000000  2105.000000  2105.000000  2105.000000   \n",
            "mean    133.343598     0.003202     0.009963     0.004388     0.001892   \n",
            "std      11.270154     0.004324     0.067870     0.003350     0.003348   \n",
            "min      51.842487    -0.019284    -0.480634    -0.014925    -0.015393   \n",
            "25%     126.000000     0.000000     0.000000     0.001838     0.000000   \n",
            "50%     133.000000     0.001631     0.000000     0.004484     0.000000   \n",
            "75%     140.000000     0.005650     0.002554     0.006536     0.003289   \n",
            "max     214.000000     0.038567     0.961268     0.030002     0.030769   \n",
            "\n",
            "                DS           DP         ASTV         MSTV         ALTV  \\\n",
            "count  2105.000000  2105.000000  2105.000000  2105.000000  2105.000000   \n",
            "mean      0.000003     0.000175    46.996929     1.361006    10.353647   \n",
            "std       0.000142     0.000840    18.847737     1.173164    21.282102   \n",
            "min      -0.001353    -0.005348   -63.000000    -6.600000   -91.000000   \n",
            "25%       0.000000     0.000000    32.000000     0.700000     0.000000   \n",
            "50%       0.000000     0.000000    49.000000     1.200000     0.000000   \n",
            "75%       0.000000     0.000000    61.000000     1.700000    11.000000   \n",
            "max       0.002706     0.010695   162.000000    13.800000   182.000000   \n",
            "\n",
            "              MLTV        Width     Tendency          NSP  \n",
            "count  2105.000000  2105.000000  2105.000000  2105.000000  \n",
            "mean      8.284887    70.429260     0.316371     1.304507  \n",
            "std       7.772858    42.931822     0.645622     0.644619  \n",
            "min     -50.700000  -174.000000    -3.000000    -1.025988  \n",
            "25%       4.600000    37.000000     0.000000     1.000000  \n",
            "50%       7.400000    67.000000     0.000000     1.000000  \n",
            "75%      10.900000   100.000000     1.000000     1.000000  \n",
            "max     101.400000   357.000000     3.000000     5.000000  \n"
          ]
        }
      ]
    },
    {
      "cell_type": "code",
      "source": [
        "print(np.mean(df_cardio))"
      ],
      "metadata": {
        "colab": {
          "base_uri": "https://localhost:8080/"
        },
        "id": "d2YYJQ1iafJW",
        "outputId": "55e56a3f-df0a-44cb-a258-6daf8800cb46"
      },
      "execution_count": 23,
      "outputs": [
        {
          "output_type": "stream",
          "name": "stdout",
          "text": [
            "19.45784494956133\n"
          ]
        }
      ]
    },
    {
      "cell_type": "code",
      "source": [
        "print(np.median(df_cardio))"
      ],
      "metadata": {
        "colab": {
          "base_uri": "https://localhost:8080/"
        },
        "id": "y9gcqt81dr5s",
        "outputId": "919175a8-7a47-4d0d-9d91-dc6636d05ab6"
      },
      "execution_count": 24,
      "outputs": [
        {
          "output_type": "stream",
          "name": "stdout",
          "text": [
            "0.0100873635\n"
          ]
        }
      ]
    },
    {
      "cell_type": "code",
      "source": [
        "print(np.std(df_cardio))"
      ],
      "metadata": {
        "colab": {
          "base_uri": "https://localhost:8080/"
        },
        "id": "x4-GBr24eJbO",
        "outputId": "b4edfaab-635a-4730-d7c9-4ddad0fc790c"
      },
      "execution_count": 25,
      "outputs": [
        {
          "output_type": "stream",
          "name": "stdout",
          "text": [
            "LB          11.267477\n",
            "AC           0.004323\n",
            "FM           0.067854\n",
            "UC           0.003349\n",
            "DL           0.003347\n",
            "DS           0.000142\n",
            "DP           0.000840\n",
            "ASTV        18.843259\n",
            "MSTV         1.172886\n",
            "ALTV        21.277046\n",
            "MLTV         7.771011\n",
            "Width       42.921623\n",
            "Tendency     0.645468\n",
            "NSP          0.644466\n",
            "dtype: float64\n"
          ]
        }
      ]
    },
    {
      "cell_type": "code",
      "source": [
        "#IQR\n",
        "q1 = np.percentile(df_cardio, 25)\n",
        "q3 = np.percentile(df_cardio, 75)\n",
        "iqr = q3 - q1\n",
        "\n",
        "print(\"Interquartile Range (IQR):\", iqr)"
      ],
      "metadata": {
        "colab": {
          "base_uri": "https://localhost:8080/"
        },
        "id": "W6MeNCfXVcXA",
        "outputId": "85362255-9278-4624-acf9-c3ba667bcdac"
      },
      "execution_count": 27,
      "outputs": [
        {
          "output_type": "stream",
          "name": "stdout",
          "text": [
            "Interquartile Range (IQR): 10.6\n"
          ]
        }
      ]
    },
    {
      "cell_type": "markdown",
      "source": [
        "# 3.\tData Visualization:"
      ],
      "metadata": {
        "id": "PqC_RVigWlGv"
      }
    },
    {
      "cell_type": "code",
      "source": [
        "plt.hist(df_cardio[\"LB\"])"
      ],
      "metadata": {
        "id": "4EuSGbq-WtUa",
        "colab": {
          "base_uri": "https://localhost:8080/",
          "height": 534
        },
        "outputId": "8dcaad12-3331-4169-8dd9-5c5b5d530ebb"
      },
      "execution_count": 28,
      "outputs": [
        {
          "output_type": "execute_result",
          "data": {
            "text/plain": [
              "(array([   4.,    0.,    0.,   88.,  886., 1027.,   94.,    0.,    0.,\n",
              "           6.]),\n",
              " array([ 51.84248683,  68.05823815,  84.27398947, 100.48974078,\n",
              "        116.7054921 , 132.92124342, 149.13699473, 165.35274605,\n",
              "        181.56849737, 197.78424868, 214.        ]),\n",
              " <BarContainer object of 10 artists>)"
            ]
          },
          "metadata": {},
          "execution_count": 28
        },
        {
          "output_type": "display_data",
          "data": {
            "text/plain": [
              "<Figure size 640x480 with 1 Axes>"
            ],
            "image/png": "[encoded data removed]"
          },
          "metadata": {}
        }
      ]
    },
    {
      "cell_type": "code",
      "source": [
        "plt.hist(df_cardio[\"AC\"])"
      ],
      "metadata": {
        "colab": {
          "base_uri": "https://localhost:8080/",
          "height": 534
        },
        "id": "V8j3nkbd-fjF",
        "outputId": "224d4da3-ec8e-4dfe-fa97-017b1f03f7c4"
      },
      "execution_count": 29,
      "outputs": [
        {
          "output_type": "execute_result",
          "data": {
            "text/plain": [
              "(array([   4.,    0.,    0., 1381.,  550.,  151.,   14.,    0.,    0.,\n",
              "           5.]),\n",
              " array([-0.01928375, -0.01349862, -0.0077135 , -0.00192837,  0.00385675,\n",
              "         0.00964187,  0.015427  ,  0.02121212,  0.02699725,  0.03278237,\n",
              "         0.03856749]),\n",
              " <BarContainer object of 10 artists>)"
            ]
          },
          "metadata": {},
          "execution_count": 29
        },
        {
          "output_type": "display_data",
          "data": {
            "text/plain": [
              "<Figure size 640x480 with 1 Axes>"
            ],
            "image/png": "[encoded data removed]"
          },
          "metadata": {}
        }
      ]
    },
    {
      "cell_type": "code",
      "source": [
        "plt.hist(df_cardio[\"FM\"])"
      ],
      "metadata": {
        "colab": {
          "base_uri": "https://localhost:8080/",
          "height": 534
        },
        "id": "uAq8-pEx-sSj",
        "outputId": "e1e8c176-5155-4ad8-ad0f-a6ad83c13935"
      },
      "execution_count": 30,
      "outputs": [
        {
          "output_type": "execute_result",
          "data": {
            "text/plain": [
              "(array([   6.,    0.,    0., 2055.,   13.,   14.,   13.,    0.,    0.,\n",
              "           4.]),\n",
              " array([-0.4806338 , -0.33644366, -0.19225352, -0.04806338,  0.09612676,\n",
              "         0.2403169 ,  0.38450704,  0.52869718,  0.67288732,  0.81707747,\n",
              "         0.96126761]),\n",
              " <BarContainer object of 10 artists>)"
            ]
          },
          "metadata": {},
          "execution_count": 30
        },
        {
          "output_type": "display_data",
          "data": {
            "text/plain": [
              "<Figure size 640x480 with 1 Axes>"
            ],
            "image/png": "[encoded data removed]"
          },
          "metadata": {}
        }
      ]
    },
    {
      "cell_type": "code",
      "source": [
        "plt.hist(df_cardio[\"UC\"])"
      ],
      "metadata": {
        "colab": {
          "base_uri": "https://localhost:8080/",
          "height": 534
        },
        "id": "mh-w-rnd-xo3",
        "outputId": "9e479b67-f672-4230-a03c-f100000c17ff"
      },
      "execution_count": 31,
      "outputs": [
        {
          "output_type": "execute_result",
          "data": {
            "text/plain": [
              "(array([   4.,    0.,    0.,  711., 1079.,  298.,    7.,    0.,    0.,\n",
              "           6.]),\n",
              " array([-0.01492537, -0.01043265, -0.00593993, -0.00144721,  0.00304551,\n",
              "         0.00753823,  0.01203095,  0.01652367,  0.02101639,  0.02550911,\n",
              "         0.03000183]),\n",
              " <BarContainer object of 10 artists>)"
            ]
          },
          "metadata": {},
          "execution_count": 31
        },
        {
          "output_type": "display_data",
          "data": {
            "text/plain": [
              "<Figure size 640x480 with 1 Axes>"
            ],
            "image/png": "[encoded data removed]"
          },
          "metadata": {}
        }
      ]
    },
    {
      "cell_type": "code",
      "source": [
        "plt.hist(df_cardio[\"DL\"])"
      ],
      "metadata": {
        "colab": {
          "base_uri": "https://localhost:8080/",
          "height": 534
        },
        "id": "IG9kVChA-3um",
        "outputId": "7d11ec64-833a-4280-efe7-f6413d969dcd"
      },
      "execution_count": 32,
      "outputs": [
        {
          "output_type": "execute_result",
          "data": {
            "text/plain": [
              "(array([   6.,    0.,    0., 1545.,  410.,  120.,   20.,    0.,    0.,\n",
              "           4.]),\n",
              " array([-0.01539347, -0.0107772 , -0.00616093, -0.00154466,  0.00307161,\n",
              "         0.00768788,  0.01230415,  0.01692042,  0.02153669,  0.02615296,\n",
              "         0.03076923]),\n",
              " <BarContainer object of 10 artists>)"
            ]
          },
          "metadata": {},
          "execution_count": 32
        },
        {
          "output_type": "display_data",
          "data": {
            "text/plain": [
              "<Figure size 640x480 with 1 Axes>"
            ],
            "image/png": "[encoded data removed]"
          },
          "metadata": {}
        }
      ]
    },
    {
      "cell_type": "code",
      "source": [
        "plt.hist(df_cardio[\"DS\"])"
      ],
      "metadata": {
        "colab": {
          "base_uri": "https://localhost:8080/",
          "height": 534
        },
        "id": "ShYi5MyL-7kQ",
        "outputId": "e26db6ca-d6f7-45c2-e287-a04466271517"
      },
      "execution_count": 33,
      "outputs": [
        {
          "output_type": "execute_result",
          "data": {
            "text/plain": [
              "(array([   7.,    0.,    0., 2089.,    0.,    3.,    3.,    0.,    0.,\n",
              "           3.]),\n",
              " array([-0.00135318, -0.00094723, -0.00054127, -0.00013532,  0.00027064,\n",
              "         0.00067659,  0.00108254,  0.0014885 ,  0.00189445,  0.00230041,\n",
              "         0.00270636]),\n",
              " <BarContainer object of 10 artists>)"
            ]
          },
          "metadata": {},
          "execution_count": 33
        },
        {
          "output_type": "display_data",
          "data": {
            "text/plain": [
              "<Figure size 640x480 with 1 Axes>"
            ],
            "image/png": "[encoded data removed]"
          },
          "metadata": {}
        }
      ]
    },
    {
      "cell_type": "code",
      "source": [
        "plt.hist(df_cardio[\"DP\"])"
      ],
      "metadata": {
        "colab": {
          "base_uri": "https://localhost:8080/",
          "height": 534
        },
        "id": "rIRFkL6Z--0B",
        "outputId": "8b5ff29a-ca9c-48d3-bb8c-a131530c6188"
      },
      "execution_count": 34,
      "outputs": [
        {
          "output_type": "execute_result",
          "data": {
            "text/plain": [
              "(array([   4.,    0.,    0., 1958.,  107.,   26.,    4.,    0.,    0.,\n",
              "           6.]),\n",
              " array([-0.00534759, -0.00374332, -0.00213904, -0.00053476,  0.00106952,\n",
              "         0.0026738 ,  0.00427808,  0.00588235,  0.00748663,  0.00909091,\n",
              "         0.01069519]),\n",
              " <BarContainer object of 10 artists>)"
            ]
          },
          "metadata": {},
          "execution_count": 34
        },
        {
          "output_type": "display_data",
          "data": {
            "text/plain": [
              "<Figure size 640x480 with 1 Axes>"
            ],
            "image/png": "[encoded data removed]"
          },
          "metadata": {}
        }
      ]
    },
    {
      "cell_type": "code",
      "source": [
        "plt.hist(df_cardio[\"ASTV\"])"
      ],
      "metadata": {
        "colab": {
          "base_uri": "https://localhost:8080/",
          "height": 499
        },
        "id": "AUerqCpU_Lh2",
        "outputId": "d643291a-081a-4cc2-f4f2-6b6e083de1ff"
      },
      "execution_count": 35,
      "outputs": [
        {
          "output_type": "execute_result",
          "data": {
            "text/plain": [
              "(array([  5.,   0.,   0., 335., 731., 881., 148.,   0.,   0.,   5.]),\n",
              " array([-63. , -40.5, -18. ,   4.5,  27. ,  49.5,  72. ,  94.5, 117. ,\n",
              "        139.5, 162. ]),\n",
              " <BarContainer object of 10 artists>)"
            ]
          },
          "metadata": {},
          "execution_count": 35
        },
        {
          "output_type": "display_data",
          "data": {
            "text/plain": [
              "<Figure size 640x480 with 1 Axes>"
            ],
            "image/png": "[encoded data removed]"
          },
          "metadata": {}
        }
      ]
    },
    {
      "cell_type": "code",
      "source": [
        "plt.hist(df_cardio[\"MSTV\"])"
      ],
      "metadata": {
        "colab": {
          "base_uri": "https://localhost:8080/",
          "height": 517
        },
        "id": "CB9FtIzj_QHG",
        "outputId": "02bb59a2-67b3-41bf-8560-a6548afec9ff"
      },
      "execution_count": 36,
      "outputs": [
        {
          "output_type": "execute_result",
          "data": {
            "text/plain": [
              "(array([   3.,    0.,    0., 1440.,  609.,   39.,    7.,    0.,    0.,\n",
              "           7.]),\n",
              " array([-6.6 , -4.56, -2.52, -0.48,  1.56,  3.6 ,  5.64,  7.68,  9.72,\n",
              "        11.76, 13.8 ]),\n",
              " <BarContainer object of 10 artists>)"
            ]
          },
          "metadata": {},
          "execution_count": 36
        },
        {
          "output_type": "display_data",
          "data": {
            "text/plain": [
              "<Figure size 640x480 with 1 Axes>"
            ],
            "image/png": "[encoded data removed]"
          },
          "metadata": {}
        }
      ]
    },
    {
      "cell_type": "code",
      "source": [
        "\n",
        "plt.hist(df_cardio[\"ALTV\"])"
      ],
      "metadata": {
        "colab": {
          "base_uri": "https://localhost:8080/",
          "height": 517
        },
        "id": "annMsKws_Wu0",
        "outputId": "bd4b5f7c-e710-4d51-866f-d1668e7c0cbd"
      },
      "execution_count": 37,
      "outputs": [
        {
          "output_type": "execute_result",
          "data": {
            "text/plain": [
              "(array([   3.,    0.,    0., 1696.,  243.,  125.,   31.,    0.,    0.,\n",
              "           7.]),\n",
              " array([-91. , -63.7, -36.4,  -9.1,  18.2,  45.5,  72.8, 100.1, 127.4,\n",
              "        154.7, 182. ]),\n",
              " <BarContainer object of 10 artists>)"
            ]
          },
          "metadata": {},
          "execution_count": 37
        },
        {
          "output_type": "display_data",
          "data": {
            "text/plain": [
              "<Figure size 640x480 with 1 Axes>"
            ],
            "image/png": "[encoded data removed]"
          },
          "metadata": {}
        }
      ]
    },
    {
      "cell_type": "code",
      "source": [
        "plt.hist(df_cardio[\"MLTV\"])"
      ],
      "metadata": {
        "colab": {
          "base_uri": "https://localhost:8080/",
          "height": 517
        },
        "id": "mVDy3C3Q_cIS",
        "outputId": "202fc485-d9f6-48ed-ec7f-0e7500019a0a"
      },
      "execution_count": 38,
      "outputs": [
        {
          "output_type": "execute_result",
          "data": {
            "text/plain": [
              "(array([   5.,    0.,    0., 1479.,  586.,   27.,    3.,    0.,    0.,\n",
              "           5.]),\n",
              " array([-50.7 , -35.49, -20.28,  -5.07,  10.14,  25.35,  40.56,  55.77,\n",
              "         70.98,  86.19, 101.4 ]),\n",
              " <BarContainer object of 10 artists>)"
            ]
          },
          "metadata": {},
          "execution_count": 38
        },
        {
          "output_type": "display_data",
          "data": {
            "text/plain": [
              "<Figure size 640x480 with 1 Axes>"
            ],
            "image/png": "[encoded data removed]"
          },
          "metadata": {}
        }
      ]
    },
    {
      "cell_type": "markdown",
      "source": [
        "# 4.\tPattern Recognition and Insights:"
      ],
      "metadata": {
        "id": "-teTsFT9GWuI"
      }
    },
    {
      "cell_type": "code",
      "source": [
        "print(df_cardio.corr())"
      ],
      "metadata": {
        "colab": {
          "base_uri": "https://localhost:8080/"
        },
        "id": "SL3onwRuF7tF",
        "outputId": "269bd2f7-8b27-4e8d-ab88-2e7725a49aaf"
      },
      "execution_count": 43,
      "outputs": [
        {
          "output_type": "stream",
          "name": "stdout",
          "text": [
            "                LB        AC        FM        UC        DL        DS  \\\n",
            "LB        1.000000 -0.063830  0.018777 -0.166570 -0.126959 -0.005438   \n",
            "AC       -0.063830  1.000000  0.010152  0.070135 -0.095491 -0.033623   \n",
            "FM        0.018777  0.010152  1.000000 -0.052979  0.009830  0.029901   \n",
            "UC       -0.166570  0.070135 -0.052979  1.000000  0.191864 -0.006937   \n",
            "DL       -0.126959 -0.095491  0.009830  0.191864  1.000000  0.058625   \n",
            "DS       -0.005438 -0.033623  0.029901 -0.006937  0.058625  1.000000   \n",
            "DP       -0.047724 -0.084590  0.121284  0.070658  0.145425  0.004285   \n",
            "ASTV      0.242625 -0.230487 -0.032783 -0.181133 -0.070792  0.008452   \n",
            "MSTV     -0.170473  0.126752  0.017481  0.190011  0.410155  0.016163   \n",
            "ALTV      0.210728 -0.273890 -0.012276 -0.227817 -0.186571 -0.004398   \n",
            "MLTV     -0.003457 -0.106529 -0.006237 -0.049460 -0.165750  0.034349   \n",
            "Width    -0.118425  0.238436  0.097213  0.107397  0.410031  0.040832   \n",
            "Tendency  0.236864  0.032481 -0.018339 -0.066610 -0.023569 -0.015398   \n",
            "NSP       0.131843 -0.316941  0.074054 -0.185411  0.025427  0.065400   \n",
            "\n",
            "                DP      ASTV      MSTV      ALTV      MLTV     Width  \\\n",
            "LB       -0.047724  0.242625 -0.170473  0.210728 -0.003457 -0.118425   \n",
            "AC       -0.084590 -0.230487  0.126752 -0.273890 -0.106529  0.238436   \n",
            "FM        0.121284 -0.032783  0.017481 -0.012276 -0.006237  0.097213   \n",
            "UC        0.070658 -0.181133  0.190011 -0.227817 -0.049460  0.107397   \n",
            "DL        0.145425 -0.070792  0.410155 -0.186571 -0.165750  0.410031   \n",
            "DS        0.004285  0.008452  0.016163 -0.004398  0.034349  0.040832   \n",
            "DP        1.000000  0.038238  0.119892 -0.077758 -0.114084  0.175340   \n",
            "ASTV      0.038238  1.000000 -0.293388  0.357668 -0.220427 -0.207599   \n",
            "MSTV      0.119892 -0.293388  1.000000 -0.291362  0.028934  0.435393   \n",
            "ALTV     -0.077758  0.357668 -0.291362  1.000000 -0.107712 -0.346460   \n",
            "MLTV     -0.114084 -0.220427  0.028934 -0.107712  1.000000  0.058580   \n",
            "Width     0.175340 -0.207599  0.435393 -0.346460  0.058580  1.000000   \n",
            "Tendency -0.130395 -0.010927 -0.036857  0.036771  0.116361  0.081355   \n",
            "NSP       0.294472  0.422652 -0.095139  0.365846 -0.113674 -0.067423   \n",
            "\n",
            "          Tendency       NSP  \n",
            "LB        0.236864  0.131843  \n",
            "AC        0.032481 -0.316941  \n",
            "FM       -0.018339  0.074054  \n",
            "UC       -0.066610 -0.185411  \n",
            "DL       -0.023569  0.025427  \n",
            "DS       -0.015398  0.065400  \n",
            "DP       -0.130395  0.294472  \n",
            "ASTV     -0.010927  0.422652  \n",
            "MSTV     -0.036857 -0.095139  \n",
            "ALTV      0.036771  0.365846  \n",
            "MLTV      0.116361 -0.113674  \n",
            "Width     0.081355 -0.067423  \n",
            "Tendency  1.000000 -0.106238  \n",
            "NSP      -0.106238  1.000000  \n"
          ]
        }
      ]
    },
    {
      "cell_type": "markdown",
      "source": [
        "# 5.\tConclusion:"
      ],
      "metadata": {
        "id": "i5pDIL8aHFRo"
      }
    },
    {
      "cell_type": "markdown",
      "source": [
        "from the above analysis we found that, all the detect value are corelated to each other and NSP ofthe finding near -0.106238.\n",
        "\n",
        "From the above analysis we can compare the detected data of a patient and the stander value of the analysis, to find if the patient haveing any issues or note.\n",
        ":"
      ],
      "metadata": {
        "id": "ljOwvdFiaxeJ"
      }
    }
  ]
}